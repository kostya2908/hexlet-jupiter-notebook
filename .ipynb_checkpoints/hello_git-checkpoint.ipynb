{
 "cells": [
  {
   "cell_type": "code",
   "execution_count": 1,
   "id": "db62bfb5-f033-448d-b187-c64144418503",
   "metadata": {},
   "outputs": [
    {
     "name": "stdout",
     "output_type": "stream",
     "text": [
      "hello git\n"
     ]
    }
   ],
   "source": [
    "print('hello git')"
   ]
  },
  {
   "cell_type": "code",
   "execution_count": null,
   "id": "99e7e778-29f4-4856-ba50-39092dc015a7",
   "metadata": {},
   "outputs": [],
   "source": []
  }
 ],
 "metadata": {
  "kernelspec": {
   "display_name": "Python 3 (ipykernel)",
   "language": "python",
   "name": "python3"
  },
  "language_info": {
   "codemirror_mode": {
    "name": "ipython",
    "version": 3
   },
   "file_extension": ".py",
   "mimetype": "text/x-python",
   "name": "python",
   "nbconvert_exporter": "python",
   "pygments_lexer": "ipython3",
   "version": "3.11.8"
  }
 },
 "nbformat": 4,
 "nbformat_minor": 5
}
